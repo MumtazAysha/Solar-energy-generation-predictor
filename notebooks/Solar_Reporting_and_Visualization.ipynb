{
 "cells": [
  {
   "cell_type": "code",
   "execution_count": null,
   "id": "0d19dcb4",
   "metadata": {
    "vscode": {
     "languageId": "groovy"
    }
   },
   "outputs": [],
   "source": [
    "import pandas as pd\n",
    "import matplotlib.pyplot as plt\n",
    "import seaborn as sns\n",
    "\n",
    "date_str = \"2025-01-23\"\n",
    "df = pd.read_csv(f\"outputs/models/pred_all_{date_str}.csv\")\n",
    "df.head()\n",
    "\n",
    "summary = df.groupby(\"district\")[\"prediction\"].agg(\n",
    "    [\"mean\", \"max\", \"min\", \"std\"]\n",
    ").reset_index()\n",
    "summary.rename(columns={\n",
    "    \"mean\": \"Average (kW)\", \"max\": \"Peak (kW)\", \"min\": \"Lowest (kW)\",\n",
    "    \"std\": \"Std Dev (kW)\"\n",
    "}, inplace=True)\n",
    "summary.head()\n",
    "\n",
    "plt.figure(figsize=(10,5))\n",
    "for d in [\"Ampara\", \"Colombo\", \"Kandy\"]:\n",
    "    subset = df[df[\"district\"] == d]\n",
    "    plt.plot(subset[\"datetime\"], subset[\"prediction\"], label=d)\n",
    "plt.legend()\n",
    "plt.title(f\"Predicted Solar Generation – {date_str}\")\n",
    "plt.xticks(rotation=45)\n",
    "plt.ylabel(\"Predicted kW\")\n",
    "plt.tight_layout()\n",
    "plt.show()\n",
    "\n",
    "df[\"hour\"] = pd.to_datetime(df[\"datetime\"]).dt.hour\n",
    "pivot = df.pivot_table(values=\"prediction\", index=\"district\", columns=\"hour\", aggfunc=\"mean\")\n",
    "plt.figure(figsize=(12,8))\n",
    "sns.heatmap(pivot, cmap=\"YlOrBr\")\n",
    "plt.title(f\"Average Hourly Generation by District – {date_str}\")\n",
    "plt.xlabel(\"Hour of Day\")\n",
    "plt.ylabel(\"District\")\n",
    "plt.show()\n",
    "\n",
    "import plotly.express as px\n",
    "fig = px.line(df[df[\"district\"].isin([\"Ampara\",\"Colombo\",\"Kandy\"])],\n",
    "              x=\"datetime\", y=\"prediction\", color=\"district\",\n",
    "              title=f\"Interactive Generation Curves – {date_str}\")\n",
    "fig.show()\n",
    "\n"
   ]
  },
  {
   "cell_type": "code",
   "execution_count": null,
   "id": "457ea355",
   "metadata": {
    "vscode": {
     "languageId": "plaintext"
    }
   },
   "outputs": [],
   "source": []
  }
 ],
 "metadata": {
  "language_info": {
   "name": "python"
  }
 },
 "nbformat": 4,
 "nbformat_minor": 5
}
