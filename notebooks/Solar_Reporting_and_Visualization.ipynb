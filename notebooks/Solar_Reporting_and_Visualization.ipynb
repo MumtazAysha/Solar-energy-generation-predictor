{
 "cells": [
  {
   "cell_type": "code",
   "execution_count": null,
   "id": "0d19dcb4",
   "metadata": {
    "vscode": {
     "languageId": "plaintext"
    }
   },
   "outputs": [],
   "source": [
    "import pandas as pd\n",
    "import matplotlib.pyplot as plt\n",
    "import seaborn as sns\n",
    "\n",
    "date_str = \"2025-01-23\"\n",
    "df = pd.read_csv(f\"outputs/models/pred_all_{date_str}.csv\")\n",
    "df.head()\n",
    "\n"
   ]
  },
  {
   "cell_type": "code",
   "execution_count": null,
   "id": "457ea355",
   "metadata": {
    "vscode": {
     "languageId": "plaintext"
    }
   },
   "outputs": [],
   "source": []
  }
 ],
 "metadata": {
  "language_info": {
   "name": "python"
  }
 },
 "nbformat": 4,
 "nbformat_minor": 5
}
